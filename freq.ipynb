{
  "nbformat": 4,
  "nbformat_minor": 0,
  "metadata": {
    "colab": {
      "name": "freq",
      "provenance": [],
      "collapsed_sections": []
    },
    "kernelspec": {
      "name": "python3",
      "display_name": "Python 3"
    }
  },
  "cells": [
    {
      "cell_type": "code",
      "metadata": {
        "id": "C1NfksWhTAwv"
      },
      "source": [
        "#списки "
      ],
      "execution_count": null,
      "outputs": []
    },
    {
      "cell_type": "code",
      "metadata": {
        "id": "9pKvZvBFqT_k"
      },
      "source": [
        "text=\"языки программирования, Обязанности :обеспечение прибыльного функционирования спортивного клуба,\\\n",
        "выполнение бюджета, выполнение установленных коммерческих планов, язык разметки\\\n",
        "формирование и удержание команды,   автоматизация API, автоматизация API,\\\n",
        "экономической деятельностью клуба,   обеспечение высокого уровня обслуживания\\\n",
        "клиентов,   составление отчетов различного уровня.  \""
      ],
      "execution_count": null,
      "outputs": []
    },
    {
      "cell_type": "code",
      "metadata": {
        "id": "lEXlhmPgP8jH"
      },
      "source": [
        "text2=\"языки программирования, Обязанности :обеспечение прибыльного функционирования спортивного клуба,\\\n",
        "выполнение бюджета, выполнение установленных коммерческих планов,\\\n",
        "формирование и удержание команды,   автоматизация API, Автоматизация Bash, язык запросов, эссе\""
      ],
      "execution_count": null,
      "outputs": []
    },
    {
      "cell_type": "code",
      "metadata": {
        "id": "q3Xrgh0hrgUQ"
      },
      "source": [
        "tools=[\"языки программирования\", \"язык разметки\", \"язык запросов\", \"эссе\"]"
      ],
      "execution_count": null,
      "outputs": []
    },
    {
      "cell_type": "code",
      "metadata": {
        "id": "2X178HiernQt"
      },
      "source": [
        "resp=[\"автоматизация API\", \"Автоматизация Bash\"]"
      ],
      "execution_count": null,
      "outputs": []
    },
    {
      "cell_type": "code",
      "metadata": {
        "id": "bIOgQQ-EKyZj"
      },
      "source": [
        "### easy variant\n",
        "from collections import defaultdict\n",
        "\n",
        "def how_often(vacancies):\n",
        "  \n",
        "  d=defaultdict(list)\n",
        "  for text in vacancies:\n",
        "    for keys in tools:\n",
        "        for keys2 in resp:\n",
        "          if keys in text:\n",
        "            if keys2 in text:\n",
        "              try:\n",
        "                d[keys].append(keys2)\n",
        "               #list_of_items.append(key, key2) \n",
        "              except Exception:\n",
        "                continue\n",
        "             \n",
        "            \n",
        "  return d"
      ],
      "execution_count": null,
      "outputs": []
    },
    {
      "cell_type": "code",
      "metadata": {
        "id": "IJX7bAOt90p3"
      },
      "source": [
        "d=how_often([text, text2])"
      ],
      "execution_count": null,
      "outputs": []
    },
    {
      "cell_type": "code",
      "metadata": {
        "id": "Sof8NOjF0LwR",
        "outputId": "fb55d3b1-e7a2-41fd-f1a9-6bd010d9464b",
        "colab": {
          "base_uri": "https://localhost:8080/"
        }
      },
      "source": [
        "d"
      ],
      "execution_count": null,
      "outputs": [
        {
          "output_type": "execute_result",
          "data": {
            "text/plain": [
              "defaultdict(list,\n",
              "            {'эссе': ['автоматизация API', 'Автоматизация Bash'],\n",
              "             'язык запросов': ['автоматизация API', 'Автоматизация Bash'],\n",
              "             'язык разметки': ['автоматизация API'],\n",
              "             'языки программирования': ['автоматизация API',\n",
              "              'автоматизация API',\n",
              "              'Автоматизация Bash']})"
            ]
          },
          "metadata": {
            "tags": []
          },
          "execution_count": 8
        }
      ]
    },
    {
      "cell_type": "code",
      "metadata": {
        "id": "tmUnnNDKHjci"
      },
      "source": [
        "def count_result(d):\n",
        "  \n",
        "  for k, v in d.items():\n",
        "    counts = dict()\n",
        "    for item in v:\n",
        "      counts[item] = counts.get(item, 0) + 1\n",
        "    yield [k, counts]\n",
        "    "
      ],
      "execution_count": null,
      "outputs": []
    },
    {
      "cell_type": "code",
      "metadata": {
        "id": "HFjkMt6hABLB"
      },
      "source": [
        "itog=list(count_result(d))"
      ],
      "execution_count": null,
      "outputs": []
    },
    {
      "cell_type": "code",
      "metadata": {
        "id": "SDiDiTICCUju",
        "outputId": "db5a8d22-1a71-4758-e007-60f8bdef6987",
        "colab": {
          "base_uri": "https://localhost:8080/"
        }
      },
      "source": [
        "itog"
      ],
      "execution_count": null,
      "outputs": [
        {
          "output_type": "execute_result",
          "data": {
            "text/plain": [
              "[['языки программирования', {'Автоматизация Bash': 1, 'автоматизация API': 2}],\n",
              " ['язык разметки', {'автоматизация API': 1}],\n",
              " ['язык запросов', {'Автоматизация Bash': 1, 'автоматизация API': 1}],\n",
              " ['эссе', {'Автоматизация Bash': 1, 'автоматизация API': 1}]]"
            ]
          },
          "metadata": {
            "tags": []
          },
          "execution_count": 11
        }
      ]
    },
    {
      "cell_type": "code",
      "metadata": {
        "id": "-7EvJ3kILV6T"
      },
      "source": [
        "itog_itog=[]\n",
        "for item in itog:\n",
        "  temp=[]\n",
        "  for k, v in item[1].items():\n",
        "    result=[k, v, v/sum(item[1].values())]\n",
        "    temp.append(result)\n",
        "  itog_itog.append([item[0], temp])"
      ],
      "execution_count": null,
      "outputs": []
    },
    {
      "cell_type": "code",
      "metadata": {
        "id": "hrSdr2RJOZo4",
        "outputId": "3ed68aba-d491-4f7e-f83d-8c88a639d40d",
        "colab": {
          "base_uri": "https://localhost:8080/"
        }
      },
      "source": [
        "itog_itog"
      ],
      "execution_count": null,
      "outputs": [
        {
          "output_type": "execute_result",
          "data": {
            "text/plain": [
              "[['языки программирования',\n",
              "  [['автоматизация API', 2, 0.6666666666666666],\n",
              "   ['Автоматизация Bash', 1, 0.3333333333333333]]],\n",
              " ['язык разметки', [['автоматизация API', 1, 1.0]]],\n",
              " ['язык запросов',\n",
              "  [['автоматизация API', 1, 0.5], ['Автоматизация Bash', 1, 0.5]]],\n",
              " ['эссе', [['автоматизация API', 1, 0.5], ['Автоматизация Bash', 1, 0.5]]]]"
            ]
          },
          "metadata": {
            "tags": []
          },
          "execution_count": 13
        }
      ]
    },
    {
      "cell_type": "code",
      "metadata": {
        "id": "dPsaP9PxAeYF"
      },
      "source": [
        "import pandas as pd"
      ],
      "execution_count": null,
      "outputs": []
    },
    {
      "cell_type": "code",
      "metadata": {
        "id": "D15tcjUvBQAk"
      },
      "source": [
        "itog_pd=pd.DataFrame(itog_itog) #сделать нормальную"
      ],
      "execution_count": null,
      "outputs": []
    },
    {
      "cell_type": "code",
      "metadata": {
        "id": "2lmu25qcBscu",
        "outputId": "bb2273e9-190b-4869-eb9a-e2e3f8f18656",
        "colab": {
          "base_uri": "https://localhost:8080/",
          "height": 173
        }
      },
      "source": [
        ""
      ],
      "execution_count": null,
      "outputs": [
        {
          "output_type": "execute_result",
          "data": {
            "text/html": [
              "<div>\n",
              "<style scoped>\n",
              "    .dataframe tbody tr th:only-of-type {\n",
              "        vertical-align: middle;\n",
              "    }\n",
              "\n",
              "    .dataframe tbody tr th {\n",
              "        vertical-align: top;\n",
              "    }\n",
              "\n",
              "    .dataframe thead th {\n",
              "        text-align: right;\n",
              "    }\n",
              "</style>\n",
              "<table border=\"1\" class=\"dataframe\">\n",
              "  <thead>\n",
              "    <tr style=\"text-align: right;\">\n",
              "      <th></th>\n",
              "      <th>0</th>\n",
              "      <th>1</th>\n",
              "    </tr>\n",
              "  </thead>\n",
              "  <tbody>\n",
              "    <tr>\n",
              "      <th>0</th>\n",
              "      <td>языки программирования</td>\n",
              "      <td>[[автоматизация API, 2, 0.6666666666666666], [...</td>\n",
              "    </tr>\n",
              "    <tr>\n",
              "      <th>1</th>\n",
              "      <td>язык разметки</td>\n",
              "      <td>[[автоматизация API, 1, 1.0]]</td>\n",
              "    </tr>\n",
              "    <tr>\n",
              "      <th>2</th>\n",
              "      <td>язык запросов</td>\n",
              "      <td>[[автоматизация API, 1, 0.5], [Автоматизация B...</td>\n",
              "    </tr>\n",
              "    <tr>\n",
              "      <th>3</th>\n",
              "      <td>эссе</td>\n",
              "      <td>[[автоматизация API, 1, 0.5], [Автоматизация B...</td>\n",
              "    </tr>\n",
              "  </tbody>\n",
              "</table>\n",
              "</div>"
            ],
            "text/plain": [
              "                        0                                                  1\n",
              "0  языки программирования  [[автоматизация API, 2, 0.6666666666666666], [...\n",
              "1           язык разметки                      [[автоматизация API, 1, 1.0]]\n",
              "2           язык запросов  [[автоматизация API, 1, 0.5], [Автоматизация B...\n",
              "3                    эссе  [[автоматизация API, 1, 0.5], [Автоматизация B..."
            ]
          },
          "metadata": {
            "tags": []
          },
          "execution_count": 16
        }
      ]
    },
    {
      "cell_type": "markdown",
      "metadata": {
        "id": "n2HMrbzfVUmZ"
      },
      "source": [
        "другой вариант с регулярными выражениями, чтобы не пропустить падежи, \n",
        "сделать: выцепить текст из результата, group() не работает с кириллицей"
      ]
    },
    {
      "cell_type": "code",
      "metadata": {
        "id": "utjXkNrq2Lt4"
      },
      "source": [
        "def make_regular_patterns(tools):\n",
        "  patterns=[]\n",
        "  for keys in tools:\n",
        "    if \" \" in keys:\n",
        "      keys_split=keys.split()\n",
        "      pattern=keys_split[0][0:-3]+\".*?\"+keys_split[-1]\n",
        "      patterns.append(pattern)\n",
        "    else:\n",
        "      patterns.append(keys)\n",
        "  return patterns"
      ],
      "execution_count": null,
      "outputs": []
    },
    {
      "cell_type": "code",
      "metadata": {
        "id": "0M-Y0nWU4a0v"
      },
      "source": [
        "patte=make_regular_patterns(tools)"
      ],
      "execution_count": null,
      "outputs": []
    },
    {
      "cell_type": "code",
      "metadata": {
        "id": "nL0VS0AS87tD"
      },
      "source": [
        "patte2=make_regular_patterns(resp)"
      ],
      "execution_count": null,
      "outputs": []
    },
    {
      "cell_type": "code",
      "metadata": {
        "id": "Fjochl98sLDp"
      },
      "source": [
        "from collections import defaultdict\n",
        "\n",
        "d = defaultdict(list)\n",
        "\n",
        "def how_often(text):\n",
        "    for keys in patte:\n",
        "        for keys2 in patte2:\n",
        "          k=re.search(keys, text) #re.I|re.U).group()\n",
        "          v=re.findall(keys2, text)\n",
        "          if k:\n",
        "            if v:\n",
        "              d[k].append(v)\n",
        "          \n",
        "                #if keys2 in text:\n",
        "            #d[re.search(keys, text).group(0)].append(re.findall(keys2, text))\n",
        "    return d"
      ],
      "execution_count": null,
      "outputs": []
    }
  ]
}